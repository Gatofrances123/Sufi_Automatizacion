{
 "cells": [
  {
   "cell_type": "code",
   "execution_count": 1,
   "id": "8c423484",
   "metadata": {},
   "outputs": [],
   "source": [
    "#1. Importar pandas, Numy , Matploitib.pyplot\n",
    "import pandas as pd\n",
    "import numpy as np\n",
    "import matplotlib.pyplot as plt\n"
   ]
  },
  {
   "cell_type": "code",
   "execution_count": 2,
   "id": "96c4a2ed",
   "metadata": {},
   "outputs": [
    {
     "name": "stderr",
     "output_type": "stream",
     "text": [
      "c:\\Users\\jpquinte\\Anaconda3\\lib\\site-packages\\openpyxl\\styles\\stylesheet.py:226: UserWarning: Workbook contains no default style, apply openpyxl's default\n",
      "  warn(\"Workbook contains no default style, apply openpyxl's default\")\n"
     ]
    },
    {
     "data": {
      "text/plain": [
       "<bound method DataFrame.info of        Base Application Nro Solicitud  Cedula Cliente  \\\n",
       "0              11645806    OM11650630        42825810   \n",
       "1              11737274    OM11742126        80174937   \n",
       "2              11968854    OM11973707        91532917   \n",
       "3              11750893    OM11755747        79778468   \n",
       "4              12031895    OM12036752      1152219566   \n",
       "...                 ...           ...             ...   \n",
       "71596          12709786    OM12714693        52634624   \n",
       "71597          12273573    OM12278467        80129496   \n",
       "71598          11796062    OM11800916        43818187   \n",
       "71599          11905794    OM11910647        33795152   \n",
       "71600          11654717    OM11659541      1036625889   \n",
       "\n",
       "                           Nombre Cliente  \\\n",
       "0      ISABEL CRISTINA CEBALLOS CASTAÑEDA   \n",
       "1         URIEL ANTONIO BUITRAGO VALBUENA   \n",
       "2         FABIAN LIBARDO SANDOVAL REATIGA   \n",
       "3        GUSTAVO ADOLFO MARISCAL PALENCIA   \n",
       "4                 NATALIA RAMIREZ CARDONA   \n",
       "...                                   ...   \n",
       "71596                AMANDA RUIZ BAUTISTA   \n",
       "71597        PEDRO EDUARDO SAENZ ESPINOSA   \n",
       "71598       GRADYS YANCELLY MEJIA NARANJO   \n",
       "71599    Maria Iliered Osorio De Pulgarin   \n",
       "71600    JENNY ALEXANDRA PULGARIN DURANGO   \n",
       "\n",
       "                               Asesor Sufi            Nombre Canal  \\\n",
       "0                                      NaN  SUCURSAL SUFI VEHCULOS   \n",
       "1               Yovanna Salamanca Lizarazo          DERCO COLOMBIA   \n",
       "2             Andrea Lizeth Prada Lizarazo       BANCOLOMBIA Canal   \n",
       "3          Jhon Fredy Beltran Castelblanco             AUTOGERMANA   \n",
       "4          CLAUDIA ANDREA BOLIVAR COLORADO              AGENCIAUTO   \n",
       "...                                    ...                     ...   \n",
       "71596        Diana Marcela Esguerra Moreno               CASA TORO   \n",
       "71597                Susana Fajardo Orozco           ALIANZA MOTOR   \n",
       "71598  Kennier Alexander Betancur Restrepo      CASA BRITANICA S.A   \n",
       "71599                                  NaN  SUCURSAL SUFI VEHCULOS   \n",
       "71600          Juan Esteban Herrera Medina       BANCOLOMBIA Canal   \n",
       "\n",
       "                      NombreOficina                  Nombre Vendedor  \\\n",
       "0           VENTA DIGITAL ANTIOQUIA                     Sufi directo   \n",
       "1                   DERCO CALLE 127     Concesionario Derco Colombia   \n",
       "2                PASEO DEL COMERCIO        Elisabeth Agudelo Sanchez   \n",
       "3              BOGOTA CALLE 127   3      Carlos Andres Muños Jimenez   \n",
       "4                  AGENCIAUTO MAKRO  Natalia Andrea Colorado Montoya   \n",
       "...                             ...                              ...   \n",
       "71596     RENAULT PTE ARANDA BOGOTA                     CASA TORO SA   \n",
       "71597                 ALIANZA MOTOR      Lady Johanna Chacon Perdomo   \n",
       "71598  CASA BRITANICA PALACE USADOS     Sebastián  Arboleda Restrepo   \n",
       "71599          VENTA DIGITAL BOGOTA                     Sufi directo   \n",
       "71600       CENTRO DE LA CONFECCION        Miguel Javier Ayala Lopez   \n",
       "\n",
       "       ValorSolicitado  Valor Aprobado  ... Tasa Nominal Aprobada  \\\n",
       "0           38000000.0      54700000.0  ...                0.0162   \n",
       "1           50000000.0      50000000.0  ...                0.0240   \n",
       "2           81500000.0      81500000.0  ...                0.0175   \n",
       "3          173900000.0     173900000.0  ...                0.0168   \n",
       "4           41300000.0      41300000.0  ...                0.0195   \n",
       "...                ...             ...  ...                   ...   \n",
       "71596       67000000.0             NaN  ...                   NaN   \n",
       "71597       35990000.0             NaN  ...                0.0000   \n",
       "71598       98000000.0     100000000.0  ...                0.0206   \n",
       "71599       40900000.0             NaN  ...                0.0000   \n",
       "71600      147000000.0             NaN  ...                   NaN   \n",
       "\n",
       "                                       Estado Actual Estado Actual Fecha  \\\n",
       "0      Acta de aprobacion y Desembolso Desembolsada  2022-10-12 13:52:08   \n",
       "1      Acta de aprobacion y Desembolso Desembolsada  2022-09-06 18:34:27   \n",
       "2      Acta de aprobacion y Desembolso Desembolsada  2022-09-28 15:01:59   \n",
       "3                 Instrumentación Digital En Proceso 2022-11-08 13:56:43   \n",
       "4      Acta de aprobacion y Desembolso Desembolsada  2022-10-03 09:47:18   \n",
       "...                                              ...                 ...   \n",
       "71596        Respuesta de Negacion Negada Automatica 2022-10-28 11:39:20   \n",
       "71597        Respuesta de Negacion Negada Automatica 2022-09-27 15:43:31   \n",
       "71598               Respuesta de Aprobación Aprobada 2022-08-29 09:00:27   \n",
       "71599        Respuesta de Negacion Negada Automatica 2022-09-01 22:41:29   \n",
       "71600        Respuesta de Negacion Negada Automatica 2022-08-16 15:37:59   \n",
       "\n",
       "          Region                      Tratado Por Tipo Aliado  \\\n",
       "0            NaN          Olga Lucia Londoño Toro     Premium   \n",
       "1         Bogota       Yovanna Salamanca Lizarazo    Estandar   \n",
       "2         Centro     Andrea Lizeth Prada Lizarazo    Diamante   \n",
       "3         Bogota  Jhon Fredy Beltran Castelblanco    Diamante   \n",
       "4      Antioquia  Claudia Andrea Bolivar Colorado    Diamante   \n",
       "...          ...                              ...         ...   \n",
       "71596     Bogota                              NaN     Premium   \n",
       "71597     Bogota                              NaN    Estandar   \n",
       "71598  Antioquia                              NaN    Diamante   \n",
       "71599        NaN                              NaN     Premium   \n",
       "71600  Antioquia                              NaN     Premium   \n",
       "\n",
       "               Creador de la solicitud       Nombre de la feria  \\\n",
       "0                   Venta Digital Sufi                      NaN   \n",
       "1           Yovanna Salamanca Lizarazo  FERIA INVENTARIO BOGOTA   \n",
       "2         Andrea Lizeth Prada Lizarazo                      NaN   \n",
       "3      Jhon Fredy Beltran Castelblanco                      NaN   \n",
       "4       Lizeth Carolina Agudelo Garcia                      NaN   \n",
       "...                                ...                      ...   \n",
       "71596    Diana Marcela Esguerra Moreno                      NaN   \n",
       "71597            Susana Fajardo Orozco  FERIA INVENTARIO BOGOTA   \n",
       "71598   Yudi Alexandra Rueda Hernandez     INVENTARIO ANTIOQUIA   \n",
       "71599               Venta Digital Sufi                   VDMELI   \n",
       "71600        Miguel Javier Ayala Lopez                      NaN   \n",
       "\n",
       "      Numero Celular                 Correo Electronico  \n",
       "0         3007784912      cristina.ceballos01@gmail.com  \n",
       "1         3128898313                  uanbuva@gmail.com  \n",
       "2         3016077168        fabiansandoval842@gmail.com  \n",
       "3         3165265231     gustavo.mariscal@aromasynt.com  \n",
       "4         3045758177              nati-9435@hotmail.com  \n",
       "...              ...                                ...  \n",
       "71596     3208505576          ARABAYESUA.27@HOTMAIL.COM  \n",
       "71597     3204925591             PAOCOY8408@HOTMAIL.COM  \n",
       "71598     3205733857               YANCELLYMN@GMAIL.COM  \n",
       "71599     3112803807  mariaosoriodepulgarin@hotmail.com  \n",
       "71600     3218125774                 jennyapd@gmail.com  \n",
       "\n",
       "[71601 rows x 23 columns]>"
      ]
     },
     "execution_count": 2,
     "metadata": {},
     "output_type": "execute_result"
    }
   ],
   "source": [
    "#2 Vamos a importar la ruta del excel con la palabra \"basepath \"\n",
    "basepath = \"C:/Users/jpquinte/Documents/notebooks_prueba\"\n",
    "#Define el nombre de archivo en cuestion \n",
    "Primer_informeComercial = basepath + \"/InformeComercial.xlsx\"\n",
    "#cargar archivoa dataframe diferente\n",
    "dfint = pd.read_excel(Primer_informeComercial , sheet_name=\"Sheet1\")\n",
    "dfint.info"
   ]
  },
  {
   "cell_type": "code",
   "execution_count": 3,
   "id": "b3069280",
   "metadata": {},
   "outputs": [],
   "source": [
    "# COMENZAMOS A FILTRAR \n",
    "# Se filtran las oficinas requeridas de la base principal\n",
    "dfFiltradoOficinas= dfint[(dfint['NombreOficina'] == 'VENTA DIGITAL ANTIOQUIA') | (dfint['NombreOficina'] == 'VENTA DIGITAL BOGOTA') | (dfint['NombreOficina'] == 'VENTA DIGITAL CARIBE') | (dfint['NombreOficina'] == 'VENTA DIGITAL CENTRO') | (dfint['NombreOficina'] == 'VENTA DIGITAL SUR')]\n",
    "\n"
   ]
  },
  {
   "cell_type": "code",
   "execution_count": 4,
   "id": "8e2d9841",
   "metadata": {},
   "outputs": [],
   "source": [
    "#Ordenar por fecha de Radicacion dfFiltradoOficinas\n",
    "dfOrdenadoFechaRadicacion = dfFiltradoOficinas.sort_values(by='Fecha Radicacion', ascending=False)"
   ]
  },
  {
   "cell_type": "code",
   "execution_count": 5,
   "id": "a43e069f",
   "metadata": {},
   "outputs": [],
   "source": [
    "#filtrar vdsufi y vacias\n",
    "dfFiltradoFerias = dfOrdenadoFechaRadicacion[(dfOrdenadoFechaRadicacion[\"Nombre de la feria\"]==\"VDSUFI\") | (dfOrdenadoFechaRadicacion[\"Nombre de la feria\"].isna())]\n"
   ]
  },
  {
   "cell_type": "code",
   "execution_count": 6,
   "id": "28bb8c97",
   "metadata": {},
   "outputs": [],
   "source": [
    "#1. CREAR UNA VARIABLE DIFERENTE\n",
    "dfFiltrado_creador = dfFiltradoFerias [(dfFiltradoFerias[\"Creador de la solicitud\"].str.contains(\"Venta Digital Sufi\",case=False))]\n",
    "                                  "
   ]
  },
  {
   "cell_type": "code",
   "execution_count": 7,
   "id": "3d8ae0bd",
   "metadata": {},
   "outputs": [],
   "source": [
    "#Exportar a excel\n",
    "\n",
    "dfFiltrado_creador.to_excel(\"Filtrado STP.xlsx\")"
   ]
  }
 ],
 "metadata": {
  "kernelspec": {
   "display_name": "Python 3 (ipykernel)",
   "language": "python",
   "name": "python3"
  },
  "language_info": {
   "codemirror_mode": {
    "name": "ipython",
    "version": 3
   },
   "file_extension": ".py",
   "mimetype": "text/x-python",
   "name": "python",
   "nbconvert_exporter": "python",
   "pygments_lexer": "ipython3",
   "version": "3.9.13"
  },
  "vscode": {
   "interpreter": {
    "hash": "2351d6f1facdac14b4b18b2f0a3231c65d705c65980b305fe79ef2396116eba3"
   }
  }
 },
 "nbformat": 4,
 "nbformat_minor": 5
}
